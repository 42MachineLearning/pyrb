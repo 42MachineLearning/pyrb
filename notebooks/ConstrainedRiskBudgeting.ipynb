{
 "cells": [
  {
   "cell_type": "markdown",
   "metadata": {},
   "source": [
    "### Repoducing Table 9 from the paper Constrained Risk Budgeting Portfolios."
   ]
  },
  {
   "cell_type": "code",
   "execution_count": null,
   "metadata": {},
   "outputs": [],
   "source": [
    "import pandas as pd\n",
    "import numpy as np\n",
    "from pyrb import ConstrainedRiskBudgeting\n"
   ]
  },
  {
   "cell_type": "code",
   "execution_count": null,
   "metadata": {},
   "outputs": [],
   "source": [
    "vol = [0.05,0.05,0.07,0.1,0.15,0.15,0.15,0.18]\n",
    "cor = np.array([[100,  80,  60, -20, -10, -20, -20, -20],\n",
    "               [ 80, 100,  40, -20, -20, -10, -20, -20],\n",
    "               [ 60,  40, 100,  50,  30,  20,  20,  30],\n",
    "               [-20, -20,  50, 100,  60,  60,  50,  60],\n",
    "               [-10, -20,  30,  60, 100,  90,  70,  70],\n",
    "               [-20, -10,  20,  60,  90, 100,  60,  70],\n",
    "               [-20, -20,  20,  50,  70,  60, 100,  70],\n",
    "               [-20, -20,  30,  60,  70,  70,  70, 100]])/100\n",
    "cov = np.outer(vol,vol)*cor"
   ]
  },
  {
   "cell_type": "code",
   "execution_count": null,
   "metadata": {},
   "outputs": [],
   "source": [
    "C = None\n",
    "d = None\n",
    "\n",
    "CRB = ConstrainedRiskBudgeting(cov,C=C,d=d)\n",
    "CRB.solve()\n",
    "print(CRB)"
   ]
  },
  {
   "cell_type": "code",
   "execution_count": null,
   "metadata": {},
   "outputs": [],
   "source": [
    "C = np.array([[0,0,0,0,-1.0,-1.0,-1.0,-1.0]]) \n",
    "d = [-0.3]\n",
    "\n",
    "CRB = ConstrainedRiskBudgeting(cov,C=C,d=d)\n",
    "CRB.solve()\n",
    "print(CRB)"
   ]
  },
  {
   "cell_type": "code",
   "execution_count": null,
   "metadata": {},
   "outputs": [],
   "source": [
    "C = np.array([[0,0,0,0,-1.0,-1.0,-1.0,-1.0],[1,-1,0,0,1,-1,0,0]]) \n",
    "d = [-0.3,-0.05]\n",
    "\n",
    "CRB = ConstrainedRiskBudgeting(cov,C=C,d=d)\n",
    "CRB.solve()\n",
    "print(CRB)"
   ]
  },
  {
   "cell_type": "code",
   "execution_count": null,
   "metadata": {},
   "outputs": [],
   "source": [
    "C = np.array([[0,0,0,0,-1.0,-1.0,-1.0,-1.0],[1,-1,0,0,1,-1,0,0]]) \n",
    "d = [-0.3,-0.05]\n",
    "pi = [-0.1,0.05,0,0,0.2,0.1,0,-0.1]# not in the paper\n",
    "c = 2\n",
    "\n",
    "CRB = ConstrainedRiskBudgeting(cov,C=C,d=d,pi=pi,c=c)\n",
    "CRB.solve()\n",
    "print(CRB)"
   ]
  }
 ],
 "metadata": {
  "kernelspec": {
   "display_name": "Python 3",
   "language": "python",
   "name": "python3"
  },
  "language_info": {
   "codemirror_mode": {
    "name": "ipython",
    "version": 3
   },
   "file_extension": ".py",
   "mimetype": "text/x-python",
   "name": "python",
   "nbconvert_exporter": "python",
   "pygments_lexer": "ipython3",
   "version": "3.6.3"
  }
 },
 "nbformat": 4,
 "nbformat_minor": 2
}
